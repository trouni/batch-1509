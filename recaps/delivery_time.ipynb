{
 "cells": [
  {
   "cell_type": "code",
   "execution_count": 1,
   "metadata": {},
   "outputs": [],
   "source": [
    "import seaborn as sns\n",
    "import pandas as pd\n",
    "import numpy as np\n",
    "import matplotlib.pyplot as plt\n",
    "import statsmodels.formula.api as smf\n",
    "import statsmodels.api as sm"
   ]
  },
  {
   "cell_type": "markdown",
   "metadata": {},
   "source": [
    "# Improving Olist's Estimated Delivery Time (ETA)"
   ]
  },
  {
   "cell_type": "markdown",
   "metadata": {},
   "source": [
    "👉 `Estimated Time of Arrival (ETA)` is a key component of modern e-commerce services. It allows companies to manage customer expectations by showing a predicted date for customer delivery.\n",
    "\n",
    "🎯 In this challenge, we will build a predictive model that `estimates the wait time` of an order.\n",
    "\n",
    "☑️ Olist already has its own predictions under the variable `expected_wait_time`\n",
    "\n",
    "🚀 Let's challenge ourselves to do better predictions and at the end of this recap, \n",
    "we will compare:\n",
    "* our `estimated_wait_time`\n",
    "* Olist's `expected_wait_time`\n",
    "* the real `wait_time` for each order delivered"
   ]
  },
  {
   "cell_type": "markdown",
   "metadata": {},
   "source": [
    "## Load and check `orders` dataset"
   ]
  },
  {
   "cell_type": "markdown",
   "metadata": {},
   "source": [
    "👉 `Order().get_training_data()` (include `distance_seller_customer`)"
   ]
  },
  {
   "cell_type": "code",
   "execution_count": 2,
   "metadata": {},
   "outputs": [],
   "source": [
    "from olist.order import Order\n",
    "orders = Order().get_training_data(with_distance_seller_customer=True)"
   ]
  },
  {
   "cell_type": "code",
   "execution_count": 3,
   "metadata": {},
   "outputs": [
    {
     "data": {
      "text/html": [
       "<div>\n",
       "<style scoped>\n",
       "    .dataframe tbody tr th:only-of-type {\n",
       "        vertical-align: middle;\n",
       "    }\n",
       "\n",
       "    .dataframe tbody tr th {\n",
       "        vertical-align: top;\n",
       "    }\n",
       "\n",
       "    .dataframe thead th {\n",
       "        text-align: right;\n",
       "    }\n",
       "</style>\n",
       "<table border=\"1\" class=\"dataframe\">\n",
       "  <thead>\n",
       "    <tr style=\"text-align: right;\">\n",
       "      <th></th>\n",
       "      <th>order_id</th>\n",
       "      <th>wait_time</th>\n",
       "      <th>expected_wait_time</th>\n",
       "      <th>delay_vs_expected</th>\n",
       "      <th>order_status</th>\n",
       "      <th>dim_is_five_star</th>\n",
       "      <th>dim_is_one_star</th>\n",
       "      <th>review_score</th>\n",
       "      <th>number_of_products</th>\n",
       "      <th>number_of_sellers</th>\n",
       "      <th>price</th>\n",
       "      <th>freight_value</th>\n",
       "      <th>distance_seller_customer</th>\n",
       "    </tr>\n",
       "  </thead>\n",
       "  <tbody>\n",
       "    <tr>\n",
       "      <th>0</th>\n",
       "      <td>e481f51cbdc54678b7cc49136f2d6af7</td>\n",
       "      <td>8.436574</td>\n",
       "      <td>15.544063</td>\n",
       "      <td>0.0</td>\n",
       "      <td>delivered</td>\n",
       "      <td>0</td>\n",
       "      <td>0</td>\n",
       "      <td>4</td>\n",
       "      <td>1</td>\n",
       "      <td>1</td>\n",
       "      <td>29.99</td>\n",
       "      <td>8.72</td>\n",
       "      <td>18.063837</td>\n",
       "    </tr>\n",
       "    <tr>\n",
       "      <th>1</th>\n",
       "      <td>53cdb2fc8bc7dce0b6741e2150273451</td>\n",
       "      <td>13.782037</td>\n",
       "      <td>19.137766</td>\n",
       "      <td>0.0</td>\n",
       "      <td>delivered</td>\n",
       "      <td>0</td>\n",
       "      <td>0</td>\n",
       "      <td>4</td>\n",
       "      <td>1</td>\n",
       "      <td>1</td>\n",
       "      <td>118.70</td>\n",
       "      <td>22.76</td>\n",
       "      <td>856.292580</td>\n",
       "    </tr>\n",
       "    <tr>\n",
       "      <th>2</th>\n",
       "      <td>47770eb9100c2d0c44946d9cf07ec65d</td>\n",
       "      <td>9.394213</td>\n",
       "      <td>26.639711</td>\n",
       "      <td>0.0</td>\n",
       "      <td>delivered</td>\n",
       "      <td>1</td>\n",
       "      <td>0</td>\n",
       "      <td>5</td>\n",
       "      <td>1</td>\n",
       "      <td>1</td>\n",
       "      <td>159.90</td>\n",
       "      <td>19.22</td>\n",
       "      <td>514.130333</td>\n",
       "    </tr>\n",
       "  </tbody>\n",
       "</table>\n",
       "</div>"
      ],
      "text/plain": [
       "                           order_id  wait_time  expected_wait_time  \\\n",
       "0  e481f51cbdc54678b7cc49136f2d6af7   8.436574           15.544063   \n",
       "1  53cdb2fc8bc7dce0b6741e2150273451  13.782037           19.137766   \n",
       "2  47770eb9100c2d0c44946d9cf07ec65d   9.394213           26.639711   \n",
       "\n",
       "   delay_vs_expected order_status  dim_is_five_star  dim_is_one_star  \\\n",
       "0                0.0    delivered                 0                0   \n",
       "1                0.0    delivered                 0                0   \n",
       "2                0.0    delivered                 1                0   \n",
       "\n",
       "   review_score  number_of_products  number_of_sellers   price  freight_value  \\\n",
       "0             4                   1                  1   29.99           8.72   \n",
       "1             4                   1                  1  118.70          22.76   \n",
       "2             5                   1                  1  159.90          19.22   \n",
       "\n",
       "   distance_seller_customer  \n",
       "0                 18.063837  \n",
       "1                856.292580  \n",
       "2                514.130333  "
      ]
     },
     "execution_count": 3,
     "metadata": {},
     "output_type": "execute_result"
    }
   ],
   "source": [
    "orders.head(3)"
   ]
  },
  {
   "cell_type": "code",
   "execution_count": 4,
   "metadata": {},
   "outputs": [
    {
     "name": "stdout",
     "output_type": "stream",
     "text": [
      "<class 'pandas.core.frame.DataFrame'>\n",
      "Int64Index: 95872 entries, 0 to 95879\n",
      "Data columns (total 13 columns):\n",
      " #   Column                    Non-Null Count  Dtype  \n",
      "---  ------                    --------------  -----  \n",
      " 0   order_id                  95872 non-null  object \n",
      " 1   wait_time                 95872 non-null  float64\n",
      " 2   expected_wait_time        95872 non-null  float64\n",
      " 3   delay_vs_expected         95872 non-null  float64\n",
      " 4   order_status              95872 non-null  object \n",
      " 5   dim_is_five_star          95872 non-null  int64  \n",
      " 6   dim_is_one_star           95872 non-null  int64  \n",
      " 7   review_score              95872 non-null  int64  \n",
      " 8   number_of_products        95872 non-null  int64  \n",
      " 9   number_of_sellers         95872 non-null  int64  \n",
      " 10  price                     95872 non-null  float64\n",
      " 11  freight_value             95872 non-null  float64\n",
      " 12  distance_seller_customer  95872 non-null  float64\n",
      "dtypes: float64(6), int64(5), object(2)\n",
      "memory usage: 10.2+ MB\n"
     ]
    }
   ],
   "source": [
    "orders.info()"
   ]
  },
  {
   "cell_type": "markdown",
   "metadata": {},
   "source": [
    "## Baseline Model - Olist’s current ETA model"
   ]
  },
  {
   "cell_type": "markdown",
   "metadata": {},
   "source": [
    "🐣  What's the baseline we want to optimize ❓\n",
    "\n",
    "👉 The delta between Olist' `expected_wait_time` and the real `wait_time`\n",
    "\n",
    "📈 Plot their respective histograms"
   ]
  },
  {
   "cell_type": "code",
   "execution_count": 5,
   "metadata": {
    "tags": [
     "challengify"
    ]
   },
   "outputs": [
    {
     "data": {
      "text/plain": [
       "(0.0, 100.0)"
      ]
     },
     "execution_count": 5,
     "metadata": {},
     "output_type": "execute_result"
    },
    {
     "data": {
      "image/png": "[encoded data removed]",
      "text/plain": [
       "<Figure size 640x480 with 1 Axes>"
      ]
     },
     "metadata": {},
     "output_type": "display_data"
    }
   ],
   "source": [
    "sns.histplot(data=orders, x='expected_wait_time', bins=40, kde=True, color='blue')\n",
    "sns.histplot(data=orders, x='wait_time', bins=40, kde=True, color='yellow')\n",
    "plt.xlim(0, 100)"
   ]
  },
  {
   "cell_type": "markdown",
   "metadata": {},
   "source": [
    "👉 What is the median wait time ? the median expected wait time ? "
   ]
  },
  {
   "cell_type": "code",
   "execution_count": 6,
   "metadata": {
    "tags": [
     "challengify"
    ]
   },
   "outputs": [
    {
     "name": "stdout",
     "output_type": "stream",
     "text": [
      "wait_time median: 10.2 days\n",
      "expected_wait_time median: 23.2 days\n"
     ]
    }
   ],
   "source": [
    "print(f\"wait_time median: {orders.wait_time.median():.1f} days\")\n",
    "print(f\"expected_wait_time median: {orders.expected_wait_time.median():.1f} days\")"
   ]
  },
  {
   "cell_type": "markdown",
   "metadata": {},
   "source": [
    "👉 Compute the baseline RMSE \n",
    "\n",
    "ℹ️ The errors considered here are the misapproximations from Olist in terms of waiting time."
   ]
  },
  {
   "cell_type": "code",
   "execution_count": 7,
   "metadata": {
    "tags": [
     "challengify"
    ]
   },
   "outputs": [
    {
     "name": "stdout",
     "output_type": "stream",
     "text": [
      "Baseline RMSE: 15.1 days\n"
     ]
    }
   ],
   "source": [
    "# RMSE: Root Mean Squared Error\n",
    "baseline_rmse = ((orders.expected_wait_time - orders.wait_time) ** 2).mean() ** 0.5\n",
    "print(f\"Baseline RMSE: {baseline_rmse:.1f} days\")"
   ]
  },
  {
   "cell_type": "markdown",
   "metadata": {},
   "source": [
    "## OLS multivariate model"
   ]
  },
  {
   "cell_type": "markdown",
   "metadata": {},
   "source": [
    "👉 We will create an OLS model using the `statsmodel.api.OLS` method this time.\n",
    "\n",
    "(instead of `statsmodel.formula.api.ols`) "
   ]
  },
  {
   "cell_type": "markdown",
   "metadata": {},
   "source": [
    "### Prepare the dataset with the  features X and the target Y"
   ]
  },
  {
   "cell_type": "code",
   "execution_count": 8,
   "metadata": {},
   "outputs": [
    {
     "data": {
      "text/plain": [
       "Index(['order_id', 'wait_time', 'expected_wait_time', 'delay_vs_expected',\n",
       "       'order_status', 'dim_is_five_star', 'dim_is_one_star', 'review_score',\n",
       "       'number_of_products', 'number_of_sellers', 'price', 'freight_value',\n",
       "       'distance_seller_customer'],\n",
       "      dtype='object')"
      ]
     },
     "execution_count": 8,
     "metadata": {},
     "output_type": "execute_result"
    }
   ],
   "source": [
    "orders.columns"
   ]
  },
  {
   "cell_type": "code",
   "execution_count": 9,
   "metadata": {
    "tags": [
     "challengify"
    ]
   },
   "outputs": [
    {
     "data": {
      "text/html": [
       "<div>\n",
       "<style scoped>\n",
       "    .dataframe tbody tr th:only-of-type {\n",
       "        vertical-align: middle;\n",
       "    }\n",
       "\n",
       "    .dataframe tbody tr th {\n",
       "        vertical-align: top;\n",
       "    }\n",
       "\n",
       "    .dataframe thead th {\n",
       "        text-align: right;\n",
       "    }\n",
       "</style>\n",
       "<table border=\"1\" class=\"dataframe\">\n",
       "  <thead>\n",
       "    <tr style=\"text-align: right;\">\n",
       "      <th></th>\n",
       "      <th>number_of_products</th>\n",
       "      <th>number_of_sellers</th>\n",
       "      <th>price</th>\n",
       "      <th>freight_value</th>\n",
       "      <th>distance_seller_customer</th>\n",
       "    </tr>\n",
       "  </thead>\n",
       "  <tbody>\n",
       "    <tr>\n",
       "      <th>0</th>\n",
       "      <td>1</td>\n",
       "      <td>1</td>\n",
       "      <td>29.99</td>\n",
       "      <td>8.72</td>\n",
       "      <td>18.063837</td>\n",
       "    </tr>\n",
       "    <tr>\n",
       "      <th>1</th>\n",
       "      <td>1</td>\n",
       "      <td>1</td>\n",
       "      <td>118.70</td>\n",
       "      <td>22.76</td>\n",
       "      <td>856.292580</td>\n",
       "    </tr>\n",
       "    <tr>\n",
       "      <th>2</th>\n",
       "      <td>1</td>\n",
       "      <td>1</td>\n",
       "      <td>159.90</td>\n",
       "      <td>19.22</td>\n",
       "      <td>514.130333</td>\n",
       "    </tr>\n",
       "  </tbody>\n",
       "</table>\n",
       "</div>"
      ],
      "text/plain": [
       "   number_of_products  number_of_sellers   price  freight_value  \\\n",
       "0                   1                  1   29.99           8.72   \n",
       "1                   1                  1  118.70          22.76   \n",
       "2                   1                  1  159.90          19.22   \n",
       "\n",
       "   distance_seller_customer  \n",
       "0                 18.063837  \n",
       "1                856.292580  \n",
       "2                514.130333  "
      ]
     },
     "execution_count": 9,
     "metadata": {},
     "output_type": "execute_result"
    }
   ],
   "source": [
    "selected_features = ['number_of_products', 'number_of_sellers', 'price', 'freight_value', 'distance_seller_customer']\n",
    "X = orders[selected_features]\n",
    "y = orders.wait_time\n",
    "\n",
    "X.head(3)"
   ]
  },
  {
   "cell_type": "markdown",
   "metadata": {},
   "source": [
    "⚖️ Standardize (`z-score`) each feature of X to compare regression coefficients that will result from the OLS:"
   ]
  },
  {
   "cell_type": "code",
   "execution_count": 10,
   "metadata": {
    "tags": [
     "challengify"
    ]
   },
   "outputs": [
    {
     "data": {
      "text/html": [
       "<div>\n",
       "<style scoped>\n",
       "    .dataframe tbody tr th:only-of-type {\n",
       "        vertical-align: middle;\n",
       "    }\n",
       "\n",
       "    .dataframe tbody tr th {\n",
       "        vertical-align: top;\n",
       "    }\n",
       "\n",
       "    .dataframe thead th {\n",
       "        text-align: right;\n",
       "    }\n",
       "</style>\n",
       "<table border=\"1\" class=\"dataframe\">\n",
       "  <thead>\n",
       "    <tr style=\"text-align: right;\">\n",
       "      <th></th>\n",
       "      <th>number_of_products</th>\n",
       "      <th>number_of_sellers</th>\n",
       "      <th>price</th>\n",
       "      <th>freight_value</th>\n",
       "      <th>distance_seller_customer</th>\n",
       "    </tr>\n",
       "  </thead>\n",
       "  <tbody>\n",
       "    <tr>\n",
       "      <th>0</th>\n",
       "      <td>-0.264595</td>\n",
       "      <td>-0.112544</td>\n",
       "      <td>-0.513802</td>\n",
       "      <td>-0.652038</td>\n",
       "      <td>-0.979475</td>\n",
       "    </tr>\n",
       "    <tr>\n",
       "      <th>1</th>\n",
       "      <td>-0.264595</td>\n",
       "      <td>-0.112544</td>\n",
       "      <td>-0.086640</td>\n",
       "      <td>0.000467</td>\n",
       "      <td>0.429743</td>\n",
       "    </tr>\n",
       "    <tr>\n",
       "      <th>2</th>\n",
       "      <td>-0.264595</td>\n",
       "      <td>-0.112544</td>\n",
       "      <td>0.111748</td>\n",
       "      <td>-0.164053</td>\n",
       "      <td>-0.145495</td>\n",
       "    </tr>\n",
       "    <tr>\n",
       "      <th>3</th>\n",
       "      <td>-0.264595</td>\n",
       "      <td>-0.112544</td>\n",
       "      <td>-0.441525</td>\n",
       "      <td>0.206815</td>\n",
       "      <td>2.054621</td>\n",
       "    </tr>\n",
       "    <tr>\n",
       "      <th>4</th>\n",
       "      <td>-0.264595</td>\n",
       "      <td>-0.112544</td>\n",
       "      <td>-0.562388</td>\n",
       "      <td>-0.652038</td>\n",
       "      <td>-0.959115</td>\n",
       "    </tr>\n",
       "    <tr>\n",
       "      <th>...</th>\n",
       "      <td>...</td>\n",
       "      <td>...</td>\n",
       "      <td>...</td>\n",
       "      <td>...</td>\n",
       "      <td>...</td>\n",
       "    </tr>\n",
       "    <tr>\n",
       "      <th>95875</th>\n",
       "      <td>-0.264595</td>\n",
       "      <td>-0.112544</td>\n",
       "      <td>-0.311513</td>\n",
       "      <td>-0.449408</td>\n",
       "      <td>-0.893033</td>\n",
       "    </tr>\n",
       "    <tr>\n",
       "      <th>95876</th>\n",
       "      <td>-0.264595</td>\n",
       "      <td>-0.112544</td>\n",
       "      <td>0.183977</td>\n",
       "      <td>-0.123156</td>\n",
       "      <td>-0.212797</td>\n",
       "    </tr>\n",
       "    <tr>\n",
       "      <th>95877</th>\n",
       "      <td>-0.264595</td>\n",
       "      <td>-0.112544</td>\n",
       "      <td>0.333684</td>\n",
       "      <td>1.964490</td>\n",
       "      <td>0.617630</td>\n",
       "    </tr>\n",
       "    <tr>\n",
       "      <th>95878</th>\n",
       "      <td>1.601605</td>\n",
       "      <td>-0.112544</td>\n",
       "      <td>1.075186</td>\n",
       "      <td>2.715522</td>\n",
       "      <td>-0.387558</td>\n",
       "    </tr>\n",
       "    <tr>\n",
       "      <th>95879</th>\n",
       "      <td>-0.264595</td>\n",
       "      <td>-0.112544</td>\n",
       "      <td>-0.328367</td>\n",
       "      <td>-0.204022</td>\n",
       "      <td>0.052359</td>\n",
       "    </tr>\n",
       "  </tbody>\n",
       "</table>\n",
       "<p>95872 rows × 5 columns</p>\n",
       "</div>"
      ],
      "text/plain": [
       "       number_of_products  number_of_sellers     price  freight_value  \\\n",
       "0               -0.264595          -0.112544 -0.513802      -0.652038   \n",
       "1               -0.264595          -0.112544 -0.086640       0.000467   \n",
       "2               -0.264595          -0.112544  0.111748      -0.164053   \n",
       "3               -0.264595          -0.112544 -0.441525       0.206815   \n",
       "4               -0.264595          -0.112544 -0.562388      -0.652038   \n",
       "...                   ...                ...       ...            ...   \n",
       "95875           -0.264595          -0.112544 -0.311513      -0.449408   \n",
       "95876           -0.264595          -0.112544  0.183977      -0.123156   \n",
       "95877           -0.264595          -0.112544  0.333684       1.964490   \n",
       "95878            1.601605          -0.112544  1.075186       2.715522   \n",
       "95879           -0.264595          -0.112544 -0.328367      -0.204022   \n",
       "\n",
       "       distance_seller_customer  \n",
       "0                     -0.979475  \n",
       "1                      0.429743  \n",
       "2                     -0.145495  \n",
       "3                      2.054621  \n",
       "4                     -0.959115  \n",
       "...                         ...  \n",
       "95875                 -0.893033  \n",
       "95876                 -0.212797  \n",
       "95877                  0.617630  \n",
       "95878                 -0.387558  \n",
       "95879                  0.052359  \n",
       "\n",
       "[95872 rows x 5 columns]"
      ]
     },
     "execution_count": 10,
     "metadata": {},
     "output_type": "execute_result"
    }
   ],
   "source": [
    "def z_score(s):\n",
    "    # Z = (s - mu) / sigma\n",
    "    return (s - s.mean()) / s.std()\n",
    "\n",
    "\n",
    "X_standardized = X.apply(z_score)\n",
    "X_standardized"
   ]
  },
  {
   "cell_type": "code",
   "execution_count": 11,
   "metadata": {},
   "outputs": [
    {
     "data": {
      "text/plain": [
       "'number_of_products + number_of_sellers + price + freight_value + distance_seller_customer'"
      ]
     },
     "execution_count": 11,
     "metadata": {},
     "output_type": "execute_result"
    }
   ],
   "source": [
    "\" + \".join(selected_features)"
   ]
  },
  {
   "cell_type": "code",
   "execution_count": 12,
   "metadata": {},
   "outputs": [
    {
     "data": {
      "text/html": [
       "<div>\n",
       "<style scoped>\n",
       "    .dataframe tbody tr th:only-of-type {\n",
       "        vertical-align: middle;\n",
       "    }\n",
       "\n",
       "    .dataframe tbody tr th {\n",
       "        vertical-align: top;\n",
       "    }\n",
       "\n",
       "    .dataframe thead th {\n",
       "        text-align: right;\n",
       "    }\n",
       "</style>\n",
       "<table border=\"1\" class=\"dataframe\">\n",
       "  <thead>\n",
       "    <tr style=\"text-align: right;\">\n",
       "      <th></th>\n",
       "      <th>number_of_products</th>\n",
       "      <th>number_of_sellers</th>\n",
       "      <th>price</th>\n",
       "      <th>freight_value</th>\n",
       "      <th>distance_seller_customer</th>\n",
       "    </tr>\n",
       "  </thead>\n",
       "  <tbody>\n",
       "    <tr>\n",
       "      <th>0</th>\n",
       "      <td>1</td>\n",
       "      <td>1</td>\n",
       "      <td>29.99</td>\n",
       "      <td>8.72</td>\n",
       "      <td>18.063837</td>\n",
       "    </tr>\n",
       "    <tr>\n",
       "      <th>1</th>\n",
       "      <td>1</td>\n",
       "      <td>1</td>\n",
       "      <td>118.70</td>\n",
       "      <td>22.76</td>\n",
       "      <td>856.292580</td>\n",
       "    </tr>\n",
       "    <tr>\n",
       "      <th>2</th>\n",
       "      <td>1</td>\n",
       "      <td>1</td>\n",
       "      <td>159.90</td>\n",
       "      <td>19.22</td>\n",
       "      <td>514.130333</td>\n",
       "    </tr>\n",
       "  </tbody>\n",
       "</table>\n",
       "</div>"
      ],
      "text/plain": [
       "   number_of_products  number_of_sellers   price  freight_value  \\\n",
       "0                   1                  1   29.99           8.72   \n",
       "1                   1                  1  118.70          22.76   \n",
       "2                   1                  1  159.90          19.22   \n",
       "\n",
       "   distance_seller_customer  \n",
       "0                 18.063837  \n",
       "1                856.292580  \n",
       "2                514.130333  "
      ]
     },
     "execution_count": 12,
     "metadata": {},
     "output_type": "execute_result"
    }
   ],
   "source": [
    "X.head(3)"
   ]
  },
  {
   "cell_type": "code",
   "execution_count": 13,
   "metadata": {},
   "outputs": [
    {
     "data": {
      "text/html": [
       "<div>\n",
       "<style scoped>\n",
       "    .dataframe tbody tr th:only-of-type {\n",
       "        vertical-align: middle;\n",
       "    }\n",
       "\n",
       "    .dataframe tbody tr th {\n",
       "        vertical-align: top;\n",
       "    }\n",
       "\n",
       "    .dataframe thead th {\n",
       "        text-align: right;\n",
       "    }\n",
       "</style>\n",
       "<table border=\"1\" class=\"dataframe\">\n",
       "  <thead>\n",
       "    <tr style=\"text-align: right;\">\n",
       "      <th></th>\n",
       "      <th>0</th>\n",
       "      <th>1</th>\n",
       "      <th>2</th>\n",
       "      <th>3</th>\n",
       "      <th>4</th>\n",
       "      <th>5</th>\n",
       "    </tr>\n",
       "  </thead>\n",
       "  <tbody>\n",
       "    <tr>\n",
       "      <th>0</th>\n",
       "      <td>1.0</td>\n",
       "      <td>1.0</td>\n",
       "      <td>1.0</td>\n",
       "      <td>29.99</td>\n",
       "      <td>8.72</td>\n",
       "      <td>18.063837</td>\n",
       "    </tr>\n",
       "    <tr>\n",
       "      <th>1</th>\n",
       "      <td>1.0</td>\n",
       "      <td>1.0</td>\n",
       "      <td>1.0</td>\n",
       "      <td>118.70</td>\n",
       "      <td>22.76</td>\n",
       "      <td>856.292580</td>\n",
       "    </tr>\n",
       "    <tr>\n",
       "      <th>2</th>\n",
       "      <td>1.0</td>\n",
       "      <td>1.0</td>\n",
       "      <td>1.0</td>\n",
       "      <td>159.90</td>\n",
       "      <td>19.22</td>\n",
       "      <td>514.130333</td>\n",
       "    </tr>\n",
       "    <tr>\n",
       "      <th>3</th>\n",
       "      <td>1.0</td>\n",
       "      <td>1.0</td>\n",
       "      <td>1.0</td>\n",
       "      <td>45.00</td>\n",
       "      <td>27.20</td>\n",
       "      <td>1822.800366</td>\n",
       "    </tr>\n",
       "    <tr>\n",
       "      <th>4</th>\n",
       "      <td>1.0</td>\n",
       "      <td>1.0</td>\n",
       "      <td>1.0</td>\n",
       "      <td>19.90</td>\n",
       "      <td>8.72</td>\n",
       "      <td>30.174037</td>\n",
       "    </tr>\n",
       "    <tr>\n",
       "      <th>...</th>\n",
       "      <td>...</td>\n",
       "      <td>...</td>\n",
       "      <td>...</td>\n",
       "      <td>...</td>\n",
       "      <td>...</td>\n",
       "      <td>...</td>\n",
       "    </tr>\n",
       "    <tr>\n",
       "      <th>95867</th>\n",
       "      <td>1.0</td>\n",
       "      <td>1.0</td>\n",
       "      <td>1.0</td>\n",
       "      <td>72.00</td>\n",
       "      <td>13.08</td>\n",
       "      <td>69.481037</td>\n",
       "    </tr>\n",
       "    <tr>\n",
       "      <th>95868</th>\n",
       "      <td>1.0</td>\n",
       "      <td>1.0</td>\n",
       "      <td>1.0</td>\n",
       "      <td>174.90</td>\n",
       "      <td>20.10</td>\n",
       "      <td>474.098245</td>\n",
       "    </tr>\n",
       "    <tr>\n",
       "      <th>95869</th>\n",
       "      <td>1.0</td>\n",
       "      <td>1.0</td>\n",
       "      <td>1.0</td>\n",
       "      <td>205.99</td>\n",
       "      <td>65.02</td>\n",
       "      <td>968.051192</td>\n",
       "    </tr>\n",
       "    <tr>\n",
       "      <th>95870</th>\n",
       "      <td>1.0</td>\n",
       "      <td>2.0</td>\n",
       "      <td>1.0</td>\n",
       "      <td>359.98</td>\n",
       "      <td>81.18</td>\n",
       "      <td>370.146853</td>\n",
       "    </tr>\n",
       "    <tr>\n",
       "      <th>95871</th>\n",
       "      <td>1.0</td>\n",
       "      <td>1.0</td>\n",
       "      <td>1.0</td>\n",
       "      <td>68.50</td>\n",
       "      <td>18.36</td>\n",
       "      <td>631.817784</td>\n",
       "    </tr>\n",
       "  </tbody>\n",
       "</table>\n",
       "<p>95872 rows × 6 columns</p>\n",
       "</div>"
      ],
      "text/plain": [
       "         0    1    2       3      4            5\n",
       "0      1.0  1.0  1.0   29.99   8.72    18.063837\n",
       "1      1.0  1.0  1.0  118.70  22.76   856.292580\n",
       "2      1.0  1.0  1.0  159.90  19.22   514.130333\n",
       "3      1.0  1.0  1.0   45.00  27.20  1822.800366\n",
       "4      1.0  1.0  1.0   19.90   8.72    30.174037\n",
       "...    ...  ...  ...     ...    ...          ...\n",
       "95867  1.0  1.0  1.0   72.00  13.08    69.481037\n",
       "95868  1.0  1.0  1.0  174.90  20.10   474.098245\n",
       "95869  1.0  1.0  1.0  205.99  65.02   968.051192\n",
       "95870  1.0  2.0  1.0  359.98  81.18   370.146853\n",
       "95871  1.0  1.0  1.0   68.50  18.36   631.817784\n",
       "\n",
       "[95872 rows x 6 columns]"
      ]
     },
     "execution_count": 13,
     "metadata": {},
     "output_type": "execute_result"
    }
   ],
   "source": [
    "# Check how different is it from the \"formula\" in statsmodel\n",
    "import patsy\n",
    "pd.DataFrame(patsy.dmatrix(\" + \".join(selected_features), orders))"
   ]
  },
  {
   "cell_type": "markdown",
   "metadata": {},
   "source": [
    "⚠️ With this `statsmodel.api.OLS`, we always need to add a constant \"intercept\" to the features dataset:"
   ]
  },
  {
   "cell_type": "code",
   "execution_count": 14,
   "metadata": {
    "tags": [
     "challengify"
    ]
   },
   "outputs": [
    {
     "data": {
      "text/html": [
       "<div>\n",
       "<style scoped>\n",
       "    .dataframe tbody tr th:only-of-type {\n",
       "        vertical-align: middle;\n",
       "    }\n",
       "\n",
       "    .dataframe tbody tr th {\n",
       "        vertical-align: top;\n",
       "    }\n",
       "\n",
       "    .dataframe thead th {\n",
       "        text-align: right;\n",
       "    }\n",
       "</style>\n",
       "<table border=\"1\" class=\"dataframe\">\n",
       "  <thead>\n",
       "    <tr style=\"text-align: right;\">\n",
       "      <th></th>\n",
       "      <th>number_of_products</th>\n",
       "      <th>number_of_sellers</th>\n",
       "      <th>price</th>\n",
       "      <th>freight_value</th>\n",
       "      <th>distance_seller_customer</th>\n",
       "      <th>intercept</th>\n",
       "    </tr>\n",
       "  </thead>\n",
       "  <tbody>\n",
       "    <tr>\n",
       "      <th>0</th>\n",
       "      <td>-0.264595</td>\n",
       "      <td>-0.112544</td>\n",
       "      <td>-0.513802</td>\n",
       "      <td>-0.652038</td>\n",
       "      <td>-0.979475</td>\n",
       "      <td>1</td>\n",
       "    </tr>\n",
       "    <tr>\n",
       "      <th>1</th>\n",
       "      <td>-0.264595</td>\n",
       "      <td>-0.112544</td>\n",
       "      <td>-0.086640</td>\n",
       "      <td>0.000467</td>\n",
       "      <td>0.429743</td>\n",
       "      <td>1</td>\n",
       "    </tr>\n",
       "    <tr>\n",
       "      <th>2</th>\n",
       "      <td>-0.264595</td>\n",
       "      <td>-0.112544</td>\n",
       "      <td>0.111748</td>\n",
       "      <td>-0.164053</td>\n",
       "      <td>-0.145495</td>\n",
       "      <td>1</td>\n",
       "    </tr>\n",
       "    <tr>\n",
       "      <th>3</th>\n",
       "      <td>-0.264595</td>\n",
       "      <td>-0.112544</td>\n",
       "      <td>-0.441525</td>\n",
       "      <td>0.206815</td>\n",
       "      <td>2.054621</td>\n",
       "      <td>1</td>\n",
       "    </tr>\n",
       "    <tr>\n",
       "      <th>4</th>\n",
       "      <td>-0.264595</td>\n",
       "      <td>-0.112544</td>\n",
       "      <td>-0.562388</td>\n",
       "      <td>-0.652038</td>\n",
       "      <td>-0.959115</td>\n",
       "      <td>1</td>\n",
       "    </tr>\n",
       "    <tr>\n",
       "      <th>...</th>\n",
       "      <td>...</td>\n",
       "      <td>...</td>\n",
       "      <td>...</td>\n",
       "      <td>...</td>\n",
       "      <td>...</td>\n",
       "      <td>...</td>\n",
       "    </tr>\n",
       "    <tr>\n",
       "      <th>95875</th>\n",
       "      <td>-0.264595</td>\n",
       "      <td>-0.112544</td>\n",
       "      <td>-0.311513</td>\n",
       "      <td>-0.449408</td>\n",
       "      <td>-0.893033</td>\n",
       "      <td>1</td>\n",
       "    </tr>\n",
       "    <tr>\n",
       "      <th>95876</th>\n",
       "      <td>-0.264595</td>\n",
       "      <td>-0.112544</td>\n",
       "      <td>0.183977</td>\n",
       "      <td>-0.123156</td>\n",
       "      <td>-0.212797</td>\n",
       "      <td>1</td>\n",
       "    </tr>\n",
       "    <tr>\n",
       "      <th>95877</th>\n",
       "      <td>-0.264595</td>\n",
       "      <td>-0.112544</td>\n",
       "      <td>0.333684</td>\n",
       "      <td>1.964490</td>\n",
       "      <td>0.617630</td>\n",
       "      <td>1</td>\n",
       "    </tr>\n",
       "    <tr>\n",
       "      <th>95878</th>\n",
       "      <td>1.601605</td>\n",
       "      <td>-0.112544</td>\n",
       "      <td>1.075186</td>\n",
       "      <td>2.715522</td>\n",
       "      <td>-0.387558</td>\n",
       "      <td>1</td>\n",
       "    </tr>\n",
       "    <tr>\n",
       "      <th>95879</th>\n",
       "      <td>-0.264595</td>\n",
       "      <td>-0.112544</td>\n",
       "      <td>-0.328367</td>\n",
       "      <td>-0.204022</td>\n",
       "      <td>0.052359</td>\n",
       "      <td>1</td>\n",
       "    </tr>\n",
       "  </tbody>\n",
       "</table>\n",
       "<p>95872 rows × 6 columns</p>\n",
       "</div>"
      ],
      "text/plain": [
       "       number_of_products  number_of_sellers     price  freight_value  \\\n",
       "0               -0.264595          -0.112544 -0.513802      -0.652038   \n",
       "1               -0.264595          -0.112544 -0.086640       0.000467   \n",
       "2               -0.264595          -0.112544  0.111748      -0.164053   \n",
       "3               -0.264595          -0.112544 -0.441525       0.206815   \n",
       "4               -0.264595          -0.112544 -0.562388      -0.652038   \n",
       "...                   ...                ...       ...            ...   \n",
       "95875           -0.264595          -0.112544 -0.311513      -0.449408   \n",
       "95876           -0.264595          -0.112544  0.183977      -0.123156   \n",
       "95877           -0.264595          -0.112544  0.333684       1.964490   \n",
       "95878            1.601605          -0.112544  1.075186       2.715522   \n",
       "95879           -0.264595          -0.112544 -0.328367      -0.204022   \n",
       "\n",
       "       distance_seller_customer  intercept  \n",
       "0                     -0.979475          1  \n",
       "1                      0.429743          1  \n",
       "2                     -0.145495          1  \n",
       "3                      2.054621          1  \n",
       "4                     -0.959115          1  \n",
       "...                         ...        ...  \n",
       "95875                 -0.893033          1  \n",
       "95876                 -0.212797          1  \n",
       "95877                  0.617630          1  \n",
       "95878                 -0.387558          1  \n",
       "95879                  0.052359          1  \n",
       "\n",
       "[95872 rows x 6 columns]"
      ]
     },
     "execution_count": 14,
     "metadata": {},
     "output_type": "execute_result"
    }
   ],
   "source": [
    "X_standardized['intercept'] = 1\n",
    "X_standardized"
   ]
  },
  {
   "cell_type": "markdown",
   "metadata": {},
   "source": [
    "### Run OLS with `statsmodels` and print `summary`"
   ]
  },
  {
   "cell_type": "code",
   "execution_count": 15,
   "metadata": {},
   "outputs": [
    {
     "data": {
      "text/plain": [
       "0     8.436574\n",
       "1    13.782037\n",
       "2     9.394213\n",
       "3    13.208750\n",
       "4     2.873877\n",
       "Name: wait_time, dtype: float64"
      ]
     },
     "execution_count": 15,
     "metadata": {},
     "output_type": "execute_result"
    }
   ],
   "source": [
    "y.head()"
   ]
  },
  {
   "cell_type": "code",
   "execution_count": 16,
   "metadata": {
    "tags": [
     "challengify"
    ]
   },
   "outputs": [],
   "source": [
    "# initialize our model => statsmodel.api.OLS\n",
    "model = sm.OLS(y, X_standardized).fit()"
   ]
  },
  {
   "cell_type": "code",
   "execution_count": 17,
   "metadata": {},
   "outputs": [
    {
     "data": {
      "text/html": [
       "<table class=\"simpletable\">\n",
       "<caption>OLS Regression Results</caption>\n",
       "<tr>\n",
       "  <th>Dep. Variable:</th>        <td>wait_time</td>    <th>  R-squared:         </th>  <td>   0.161</td>  \n",
       "</tr>\n",
       "<tr>\n",
       "  <th>Model:</th>                   <td>OLS</td>       <th>  Adj. R-squared:    </th>  <td>   0.161</td>  \n",
       "</tr>\n",
       "<tr>\n",
       "  <th>Method:</th>             <td>Least Squares</td>  <th>  F-statistic:       </th>  <td>   3676.</td>  \n",
       "</tr>\n",
       "<tr>\n",
       "  <th>Date:</th>             <td>Wed, 24 Jan 2024</td> <th>  Prob (F-statistic):</th>   <td>  0.00</td>   \n",
       "</tr>\n",
       "<tr>\n",
       "  <th>Time:</th>                 <td>18:15:29</td>     <th>  Log-Likelihood:    </th> <td>-3.4301e+05</td>\n",
       "</tr>\n",
       "<tr>\n",
       "  <th>No. Observations:</th>      <td> 95872</td>      <th>  AIC:               </th>  <td>6.860e+05</td> \n",
       "</tr>\n",
       "<tr>\n",
       "  <th>Df Residuals:</th>          <td> 95866</td>      <th>  BIC:               </th>  <td>6.861e+05</td> \n",
       "</tr>\n",
       "<tr>\n",
       "  <th>Df Model:</th>              <td>     5</td>      <th>                     </th>      <td> </td>     \n",
       "</tr>\n",
       "<tr>\n",
       "  <th>Covariance Type:</th>      <td>nonrobust</td>    <th>                     </th>      <td> </td>     \n",
       "</tr>\n",
       "</table>\n",
       "<table class=\"simpletable\">\n",
       "<tr>\n",
       "              <td></td>                <th>coef</th>     <th>std err</th>      <th>t</th>      <th>P>|t|</th>  <th>[0.025</th>    <th>0.975]</th>  \n",
       "</tr>\n",
       "<tr>\n",
       "  <th>number_of_products</th>       <td>   -0.3104</td> <td>    0.033</td> <td>   -9.481</td> <td> 0.000</td> <td>   -0.375</td> <td>   -0.246</td>\n",
       "</tr>\n",
       "<tr>\n",
       "  <th>number_of_sellers</th>        <td>   -0.3557</td> <td>    0.029</td> <td>  -12.174</td> <td> 0.000</td> <td>   -0.413</td> <td>   -0.298</td>\n",
       "</tr>\n",
       "<tr>\n",
       "  <th>price</th>                    <td>    0.0474</td> <td>    0.031</td> <td>    1.542</td> <td> 0.123</td> <td>   -0.013</td> <td>    0.108</td>\n",
       "</tr>\n",
       "<tr>\n",
       "  <th>freight_value</th>            <td>    0.6392</td> <td>    0.036</td> <td>   17.717</td> <td> 0.000</td> <td>    0.568</td> <td>    0.710</td>\n",
       "</tr>\n",
       "<tr>\n",
       "  <th>distance_seller_customer</th> <td>    3.5219</td> <td>    0.030</td> <td>  117.298</td> <td> 0.000</td> <td>    3.463</td> <td>    3.581</td>\n",
       "</tr>\n",
       "<tr>\n",
       "  <th>intercept</th>                <td>   12.5134</td> <td>    0.028</td> <td>  447.350</td> <td> 0.000</td> <td>   12.459</td> <td>   12.568</td>\n",
       "</tr>\n",
       "</table>\n",
       "<table class=\"simpletable\">\n",
       "<tr>\n",
       "  <th>Omnibus:</th>       <td>91515.661</td> <th>  Durbin-Watson:     </th>   <td>   1.989</td>  \n",
       "</tr>\n",
       "<tr>\n",
       "  <th>Prob(Omnibus):</th>  <td> 0.000</td>   <th>  Jarque-Bera (JB):  </th> <td>10123039.937</td>\n",
       "</tr>\n",
       "<tr>\n",
       "  <th>Skew:</th>           <td> 4.333</td>   <th>  Prob(JB):          </th>   <td>    0.00</td>  \n",
       "</tr>\n",
       "<tr>\n",
       "  <th>Kurtosis:</th>       <td>52.589</td>   <th>  Cond. No.          </th>   <td>    2.18</td>  \n",
       "</tr>\n",
       "</table><br/><br/>Notes:<br/>[1] Standard Errors assume that the covariance matrix of the errors is correctly specified."
      ],
      "text/plain": [
       "<class 'statsmodels.iolib.summary.Summary'>\n",
       "\"\"\"\n",
       "                            OLS Regression Results                            \n",
       "==============================================================================\n",
       "Dep. Variable:              wait_time   R-squared:                       0.161\n",
       "Model:                            OLS   Adj. R-squared:                  0.161\n",
       "Method:                 Least Squares   F-statistic:                     3676.\n",
       "Date:                Wed, 24 Jan 2024   Prob (F-statistic):               0.00\n",
       "Time:                        18:15:29   Log-Likelihood:            -3.4301e+05\n",
       "No. Observations:               95872   AIC:                         6.860e+05\n",
       "Df Residuals:                   95866   BIC:                         6.861e+05\n",
       "Df Model:                           5                                         \n",
       "Covariance Type:            nonrobust                                         \n",
       "============================================================================================\n",
       "                               coef    std err          t      P>|t|      [0.025      0.975]\n",
       "--------------------------------------------------------------------------------------------\n",
       "number_of_products          -0.3104      0.033     -9.481      0.000      -0.375      -0.246\n",
       "number_of_sellers           -0.3557      0.029    -12.174      0.000      -0.413      -0.298\n",
       "price                        0.0474      0.031      1.542      0.123      -0.013       0.108\n",
       "freight_value                0.6392      0.036     17.717      0.000       0.568       0.710\n",
       "distance_seller_customer     3.5219      0.030    117.298      0.000       3.463       3.581\n",
       "intercept                   12.5134      0.028    447.350      0.000      12.459      12.568\n",
       "==============================================================================\n",
       "Omnibus:                    91515.661   Durbin-Watson:                   1.989\n",
       "Prob(Omnibus):                  0.000   Jarque-Bera (JB):         10123039.937\n",
       "Skew:                           4.333   Prob(JB):                         0.00\n",
       "Kurtosis:                      52.589   Cond. No.                         2.18\n",
       "==============================================================================\n",
       "\n",
       "Notes:\n",
       "[1] Standard Errors assume that the covariance matrix of the errors is correctly specified.\n",
       "\"\"\""
      ]
     },
     "execution_count": 17,
     "metadata": {},
     "output_type": "execute_result"
    }
   ],
   "source": [
    "model.summary()"
   ]
  },
  {
   "cell_type": "markdown",
   "metadata": {},
   "source": [
    "## Check the performance of your OLS model"
   ]
  },
  {
   "cell_type": "markdown",
   "metadata": {},
   "source": [
    "### Goodness of fit"
   ]
  },
  {
   "cell_type": "markdown",
   "metadata": {},
   "source": [
    "👉 Who has the best predictions, you or Olist ? \n",
    "\n",
    "- Compute your predictions and store them in `y_pred`\n",
    "\n",
    "- You can store :\n",
    "    - Olist's predictions in a `y_expected_olist` variable\n",
    "    - the real waiting times in a `y_true` variable\n",
    "\n"
   ]
  },
  {
   "cell_type": "code",
   "execution_count": 18,
   "metadata": {},
   "outputs": [
    {
     "data": {
      "text/html": [
       "<div>\n",
       "<style scoped>\n",
       "    .dataframe tbody tr th:only-of-type {\n",
       "        vertical-align: middle;\n",
       "    }\n",
       "\n",
       "    .dataframe tbody tr th {\n",
       "        vertical-align: top;\n",
       "    }\n",
       "\n",
       "    .dataframe thead th {\n",
       "        text-align: right;\n",
       "    }\n",
       "</style>\n",
       "<table border=\"1\" class=\"dataframe\">\n",
       "  <thead>\n",
       "    <tr style=\"text-align: right;\">\n",
       "      <th></th>\n",
       "      <th>number_of_products</th>\n",
       "      <th>number_of_sellers</th>\n",
       "      <th>price</th>\n",
       "      <th>freight_value</th>\n",
       "      <th>distance_seller_customer</th>\n",
       "      <th>intercept</th>\n",
       "    </tr>\n",
       "  </thead>\n",
       "  <tbody>\n",
       "    <tr>\n",
       "      <th>0</th>\n",
       "      <td>-0.264595</td>\n",
       "      <td>-0.112544</td>\n",
       "      <td>-0.513802</td>\n",
       "      <td>-0.652038</td>\n",
       "      <td>-0.979475</td>\n",
       "      <td>1</td>\n",
       "    </tr>\n",
       "    <tr>\n",
       "      <th>1</th>\n",
       "      <td>-0.264595</td>\n",
       "      <td>-0.112544</td>\n",
       "      <td>-0.086640</td>\n",
       "      <td>0.000467</td>\n",
       "      <td>0.429743</td>\n",
       "      <td>1</td>\n",
       "    </tr>\n",
       "    <tr>\n",
       "      <th>2</th>\n",
       "      <td>-0.264595</td>\n",
       "      <td>-0.112544</td>\n",
       "      <td>0.111748</td>\n",
       "      <td>-0.164053</td>\n",
       "      <td>-0.145495</td>\n",
       "      <td>1</td>\n",
       "    </tr>\n",
       "  </tbody>\n",
       "</table>\n",
       "</div>"
      ],
      "text/plain": [
       "   number_of_products  number_of_sellers     price  freight_value  \\\n",
       "0           -0.264595          -0.112544 -0.513802      -0.652038   \n",
       "1           -0.264595          -0.112544 -0.086640       0.000467   \n",
       "2           -0.264595          -0.112544  0.111748      -0.164053   \n",
       "\n",
       "   distance_seller_customer  intercept  \n",
       "0                 -0.979475          1  \n",
       "1                  0.429743          1  \n",
       "2                 -0.145495          1  "
      ]
     },
     "execution_count": 18,
     "metadata": {},
     "output_type": "execute_result"
    }
   ],
   "source": [
    "X_standardized.head(3)"
   ]
  },
  {
   "cell_type": "code",
   "execution_count": 19,
   "metadata": {
    "tags": [
     "challengify"
    ]
   },
   "outputs": [
    {
     "data": {
      "text/plain": [
       "0     8.744923\n",
       "1    14.145283\n",
       "2    12.023631\n",
       "dtype: float64"
      ]
     },
     "execution_count": 19,
     "metadata": {},
     "output_type": "execute_result"
    }
   ],
   "source": [
    "y_pred = model.predict(X_standardized)\n",
    "y_pred.head(3)"
   ]
  },
  {
   "cell_type": "markdown",
   "metadata": {},
   "source": [
    "📈 Plot `y_pred`, `y_expected_olist` and `y_true` on the same graph."
   ]
  },
  {
   "cell_type": "code",
   "execution_count": 20,
   "metadata": {
    "tags": [
     "challengify"
    ]
   },
   "outputs": [
    {
     "data": {
      "text/plain": [
       "(0.0, 100.0)"
      ]
     },
     "execution_count": 20,
     "metadata": {},
     "output_type": "execute_result"
    },
    {
     "data": {
      "image/png": "[encoded data removed]",
      "text/plain": [
       "<Figure size 640x480 with 1 Axes>"
      ]
     },
     "metadata": {},
     "output_type": "display_data"
    }
   ],
   "source": [
    "sns.histplot(y_pred, kde=True, bins=40, color=\"red\")\n",
    "sns.histplot(orders.expected_wait_time, kde=True, bins=40, color=\"blue\")\n",
    "sns.histplot(orders.wait_time, kde=True, bins=40, color=\"yellow\")\n",
    "plt.xlim(0, 100)"
   ]
  },
  {
   "cell_type": "markdown",
   "metadata": {},
   "source": [
    "👉 Compute the RMSE where the errors are now *your* errors !"
   ]
  },
  {
   "cell_type": "code",
   "execution_count": 21,
   "metadata": {
    "tags": [
     "challengify"
    ]
   },
   "outputs": [
    {
     "name": "stdout",
     "output_type": "stream",
     "text": [
      "Our RMSE: 8.7 days\n",
      "Olist RMSE: 15.1 days\n"
     ]
    }
   ],
   "source": [
    "# Room Mean Squared Error\n",
    "print(f\"Our RMSE: {((y_pred - orders.wait_time) ** 2).mean() ** 0.5:.1f} days\")\n",
    "print(f\"Olist RMSE: {baseline_rmse:.1f} days\")"
   ]
  },
  {
   "cell_type": "markdown",
   "metadata": {},
   "source": [
    "Just as a reminder, Olist's RMSE was equal to : 👇"
   ]
  },
  {
   "cell_type": "markdown",
   "metadata": {},
   "source": [
    "😏 Did we really beat Olist's Data Scientists ? We cannot really say that!\n",
    "\n",
    "- In many e-commerce and delivery services, the ETA is often overestimated...\n",
    "- When customers receive their orders earlier than expected, they are more likely to be satisfied !"
   ]
  },
  {
   "cell_type": "markdown",
   "metadata": {},
   "source": [
    "### Partial correlations\n",
    "\n",
    "👉 Visualize partial correlations with `sm.graphics.plot_partregress_grid`"
   ]
  },
  {
   "cell_type": "code",
   "execution_count": null,
   "metadata": {
    "tags": [
     "challengify"
    ]
   },
   "outputs": [],
   "source": [
    "# YOUR CODE HERE"
   ]
  },
  {
   "cell_type": "markdown",
   "metadata": {},
   "source": [
    "**How do we read these graphs ?**\n",
    "\n",
    "👉 Let's focus - for instance - on the graph in the bottom left corner:\n",
    "\n",
    "<u>Partial regression of `wait_time` against `distance`</u>\n",
    "\n",
    "- Each point is an order in our dataset\n",
    "\n",
    "\n",
    "- `y-axis`: residuals of the `wait_time`, using all features except `distance`\n",
    "\n",
    "    - These residuals contain the remaining information about `wait_time` that couldn't be explained without `distance`\n",
    "\n",
    "\n",
    "- `x-axis`: residuals of predicting `distance` by using all other features (price, freight_value, etc...)\n",
    "    - These residuals contain the new information that `distance` brings to the table, which is not already explained by the other features in the model.\n",
    "\n"
   ]
  },
  {
   "cell_type": "markdown",
   "metadata": {},
   "source": [
    "### Inferential conditions"
   ]
  },
  {
   "cell_type": "markdown",
   "metadata": {},
   "source": [
    "⚠️ Check you residuals. Are they normally distributed?"
   ]
  },
  {
   "cell_type": "code",
   "execution_count": null,
   "metadata": {
    "tags": [
     "challengify"
    ]
   },
   "outputs": [],
   "source": [
    "# YOUR CODE HERE"
   ]
  },
  {
   "cell_type": "markdown",
   "metadata": {},
   "source": [
    "🎁 A more precise way to visualize whether a distribution is Gaussian or not is the <a href=\"https://www.statsmodels.org/stable/generated/statsmodels.graphics.gofplots.qqplot.html\">**`QQplot`**</a>. \n",
    "\n",
    "📈 Plot the QQplot of your residual below\n",
    "\n",
    "💡 Make sure to understand the relation between the QQ plot and the density previsouly drawn..\n",
    "\n",
    "📚 <a href=\"https://stats.stackexchange.com/questions/101274/how-to-interpret-a-qq-plot\">Stats.StackExchange.com - Interpreting QQplots</a>\n",
    "\n",
    "- `x-axis` : theoretical quantiles of a Gaussian distribution\n",
    "- `y-axis`: quantiles of the sorted variable\n",
    "\n",
    "💡 If the <span style=\"color:blue\">blue</span> points are aligned on the <span style=\"color:red\">red line</span> which is the identity function, the variable has a Gaussian distribution !"
   ]
  },
  {
   "cell_type": "code",
   "execution_count": null,
   "metadata": {},
   "outputs": [],
   "source": [
    "sm.qqplot(residuals_lewagon, line='s');"
   ]
  },
  {
   "cell_type": "markdown",
   "metadata": {},
   "source": [
    "#### Some QQplot examples:"
   ]
  },
  {
   "cell_type": "markdown",
   "metadata": {},
   "source": [
    "Run the cells below to understand how QQ plots are graphed:"
   ]
  },
  {
   "cell_type": "code",
   "execution_count": null,
   "metadata": {},
   "outputs": [],
   "source": [
    "from scipy import stats \n",
    "stats.norm.rvs(0,1)"
   ]
  },
  {
   "cell_type": "code",
   "execution_count": null,
   "metadata": {
    "slideshow": {
     "slide_type": "skip"
    }
   },
   "outputs": [],
   "source": [
    "# lets check QQ plots with our own distributions\n",
    "from scipy import stats\n",
    "\n",
    "norm_1 = [stats.norm.rvs(0,1) for x in range(1000)]\n",
    "norm_2 = [stats.norm.rvs(5,1) for x in range(1000)]\n",
    "\n",
    "sns.kdeplot(norm_1)\n",
    "sns.kdeplot(norm_2)\n",
    "plt.xlim(right=10)"
   ]
  },
  {
   "cell_type": "code",
   "execution_count": null,
   "metadata": {
    "slideshow": {
     "slide_type": "skip"
    }
   },
   "outputs": [],
   "source": [
    "sm.qqplot(np.asarray(norm_1), line='s');"
   ]
  },
  {
   "cell_type": "code",
   "execution_count": null,
   "metadata": {},
   "outputs": [],
   "source": [
    "bimodal = norm_1 + norm_2\n",
    "sns.kdeplot(bimodal)\n",
    "plt.xlim(right=10)"
   ]
  },
  {
   "cell_type": "code",
   "execution_count": null,
   "metadata": {
    "slideshow": {
     "slide_type": "skip"
    }
   },
   "outputs": [],
   "source": [
    "sm.qqplot(np.asarray(bimodal), line='s');"
   ]
  },
  {
   "attachments": {},
   "cell_type": "markdown",
   "metadata": {},
   "source": [
    "<img src=\"https://wagon-public-datasets.s3.amazonaws.com/04-Decision-Science/03-Linear-Regression/qq_plot_interpretation.png\" width=400>"
   ]
  },
  {
   "cell_type": "markdown",
   "metadata": {},
   "source": [
    "#### Check residuals vs. fitted to see if we can detect any non-random pattern"
   ]
  },
  {
   "cell_type": "code",
   "execution_count": null,
   "metadata": {},
   "outputs": [],
   "source": [
    "sns.scatterplot(x = y_pred, y = residuals_lewagon, alpha=0.01)\n",
    "plt.xlim(xmin=0, xmax=50)"
   ]
  },
  {
   "cell_type": "markdown",
   "metadata": {},
   "source": [
    "## More Features? (Optional)"
   ]
  },
  {
   "cell_type": "markdown",
   "metadata": {},
   "source": [
    "Here we can add additional features from the product details (size, category etc..)"
   ]
  },
  {
   "cell_type": "markdown",
   "metadata": {},
   "source": [
    "### Add product details associated with each order (sum of product sizes, sum of weights etc...)"
   ]
  },
  {
   "cell_type": "code",
   "execution_count": null,
   "metadata": {},
   "outputs": [],
   "source": [
    "from olist.data import Olist\n",
    "data = Olist().get_data()\n",
    "products = data['products']\n",
    "order_items = data['order_items']"
   ]
  },
  {
   "cell_type": "code",
   "execution_count": null,
   "metadata": {
    "tags": []
   },
   "outputs": [],
   "source": [
    "order_items_products = (\n",
    "    order_items.groupby([\"order_id\", \"product_id\"], as_index=False)\n",
    "    .agg({\"order_item_id\": \"count\"})\n",
    "    .rename(columns={\"order_item_id\": \"order_item_count\"})\n",
    "    .merge(products.drop([\"product_category_name\"], axis=1), on=\"product_id\")\n",
    ")\n",
    "order_items_products"
   ]
  },
  {
   "cell_type": "code",
   "execution_count": null,
   "metadata": {},
   "outputs": [],
   "source": [
    "# Since we want the sum of product weights per order from our new DataFrame, we need to multiply weight by product count\n",
    "order_items_products['product_weight_g'] = order_items_products['product_weight_g'] *  order_items_products['order_item_count']\n",
    "\n",
    "order_items_features = order_items_products.groupby(\"order_id\", as_index=False).agg(\n",
    "    {\n",
    "        \"product_weight_g\": \"sum\",\n",
    "        \"product_length_cm\": \"max\",\n",
    "        \"product_height_cm\": \"max\",\n",
    "        \"product_width_cm\": \"max\",\n",
    "    }).rename(columns={\n",
    "        \"product_weight_g\": \"product_weight_g_sum\",\n",
    "        \"product_length_cm\": \"product_length_cm_max\",\n",
    "        \"product_height_cm\": \"product_height_cm_max\",\n",
    "        \"product_width_cm\": \"product_width_cm_max\",\n",
    "    })\n",
    "order_items_features"
   ]
  },
  {
   "cell_type": "code",
   "execution_count": null,
   "metadata": {},
   "outputs": [],
   "source": [
    "orders_with_details = orders.merge(order_items_features, on=\"order_id\", how=\"left\").dropna()"
   ]
  },
  {
   "cell_type": "code",
   "execution_count": null,
   "metadata": {},
   "outputs": [],
   "source": [
    "X2 = orders_with_details[[\n",
    "        \"number_of_products\",\n",
    "        \"number_of_sellers\",\n",
    "        \"price\",\n",
    "        \"freight_value\",\n",
    "        \"distance_seller_customer\",\n",
    "        \"product_weight_g_sum\",\n",
    "        \"product_length_cm_max\",\n",
    "        \"product_height_cm_max\",\n",
    "        \"product_width_cm_max\"]].copy()\n",
    "y2 = orders_with_details[\"wait_time\"].copy()"
   ]
  },
  {
   "cell_type": "code",
   "execution_count": null,
   "metadata": {},
   "outputs": [],
   "source": [
    "# standardize (z-normalize) each features of X to compare coefficients\n",
    "for f in X2.columns:\n",
    "    mu = X2[f].mean()\n",
    "    sigma = X2[f].std()\n",
    "    X2[f] = X2[f].map(lambda x: (x - mu) / sigma)"
   ]
  },
  {
   "cell_type": "code",
   "execution_count": null,
   "metadata": {},
   "outputs": [],
   "source": [
    "X2['constant'] = 1"
   ]
  },
  {
   "cell_type": "code",
   "execution_count": null,
   "metadata": {},
   "outputs": [],
   "source": [
    "model2 = sm.OLS(y2, X2).fit()"
   ]
  },
  {
   "cell_type": "code",
   "execution_count": null,
   "metadata": {},
   "outputs": [],
   "source": [
    "model2.summary()"
   ]
  }
 ],
 "metadata": {
  "kernelspec": {
   "display_name": "Python 3",
   "language": "python",
   "name": "python3"
  },
  "language_info": {
   "codemirror_mode": {
    "name": "ipython",
    "version": 3
   },
   "file_extension": ".py",
   "mimetype": "text/x-python",
   "name": "python",
   "nbconvert_exporter": "python",
   "pygments_lexer": "ipython3",
   "version": "3.10.6"
  }
 },
 "nbformat": 4,
 "nbformat_minor": 4
}
